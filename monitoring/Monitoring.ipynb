{
 "cells": [
  {
   "cell_type": "markdown",
   "metadata": {},
   "source": [
    "# Setup"
   ]
  },
  {
   "cell_type": "markdown",
   "metadata": {},
   "source": [
    "## Import packages"
   ]
  },
  {
   "cell_type": "code",
   "execution_count": null,
   "metadata": {
    "ExecuteTime": {
     "end_time": "2021-11-28T14:42:21.160480Z",
     "start_time": "2021-11-28T14:42:21.156780Z"
    }
   },
   "outputs": [],
   "source": [
    "import os\n",
    "import joblib\n",
    "from datetime import datetime\n",
    "\n",
    "import numpy as np\n",
    "import pandas as pd\n",
    "from evidently.dashboard import Dashboard\n",
    "from evidently.model_profile import Profile\n",
    "from evidently.profile_sections import (DataDriftProfileSection,\n",
    "                                        NumTargetDriftProfileSection,\n",
    "                                        RegressionPerformanceProfileSection)\n",
    "from evidently.tabs import (DataDriftTab, NumTargetDriftTab,\n",
    "                            RegressionPerformanceTab)\n"
   ]
  },
  {
   "cell_type": "markdown",
   "metadata": {},
   "source": [
    "## Install and Enable Evidently Jupyter Notebook Extension"
   ]
  },
  {
   "cell_type": "code",
   "execution_count": null,
   "metadata": {
    "ExecuteTime": {
     "end_time": "2021-11-28T14:37:36.381080Z",
     "start_time": "2021-11-28T14:37:35.540312Z"
    }
   },
   "outputs": [],
   "source": [
    "!jupyter nbextension install --sys-prefix --symlink --overwrite --py evidently\n",
    "!jupyter nbextension enable evidently --py --sys-prefix"
   ]
  },
  {
   "cell_type": "markdown",
   "metadata": {},
   "source": [
    "# Read the Data"
   ]
  },
  {
   "cell_type": "markdown",
   "metadata": {},
   "source": [
    "Since this is a sample, we are reading data from a csv file. In a production scenario, we could read the reference data from the production bucket"
   ]
  },
  {
   "cell_type": "code",
   "execution_count": null,
   "metadata": {
    "ExecuteTime": {
     "end_time": "2021-11-28T14:44:47.284446Z",
     "start_time": "2021-11-28T14:44:47.264515Z"
    }
   },
   "outputs": [],
   "source": [
    "reference_df = pd.read_csv('train.csv')\n",
    "current_df = pd.read_csv('test.csv')"
   ]
  },
  {
   "cell_type": "code",
   "execution_count": null,
   "metadata": {
    "ExecuteTime": {
     "end_time": "2021-11-28T14:39:37.020687Z",
     "start_time": "2021-11-28T14:39:37.011441Z"
    }
   },
   "outputs": [],
   "source": [
    "reference_df.info()"
   ]
  },
  {
   "cell_type": "code",
   "execution_count": null,
   "metadata": {
    "ExecuteTime": {
     "end_time": "2021-11-28T14:44:58.927057Z",
     "start_time": "2021-11-28T14:44:58.923094Z"
    }
   },
   "outputs": [],
   "source": [
    "# Create a column mapping dictionary and assign values.\n",
    "# This will also be used by Evidently later to perform the appropriate statistical tests.\n",
    "column_mapping={}\n",
    "\n",
    "column_mapping['target'] = 'Churn'\n",
    "\n",
    "\n",
    "column_mapping['numerical_features'] = ['MonthlyCharges', 'TotalCharges']\n",
    "\n",
    "column_mapping['categorical_features'] = ['Gender', 'SeniorCitizen', 'Partner', 'Dependents', 'Tenure',\n",
    "                                          'PhoneService', 'MultipleLines', 'InternetService', 'OnlineSecurity',\n",
    "                                          'OnlineBackup', 'DeviceProtection', 'TechSupport', 'StreamingTV',\n",
    "                                          'StreamingMovies', 'Contract', 'PaperlessBilling', 'PaymentMethod']"
   ]
  },
  {
   "cell_type": "code",
   "execution_count": null,
   "metadata": {
    "ExecuteTime": {
     "end_time": "2021-11-28T14:44:59.437595Z",
     "start_time": "2021-11-28T14:44:59.434916Z"
    }
   },
   "outputs": [],
   "source": [
    "# Set target and feature variables\n",
    "target = column_mapping['target']\n",
    "features = column_mapping['numerical_features'] + column_mapping['categorical_features']"
   ]
  },
  {
   "cell_type": "markdown",
   "metadata": {},
   "source": [
    "# Load the Model"
   ]
  },
  {
   "cell_type": "code",
   "execution_count": null,
   "metadata": {
    "ExecuteTime": {
     "end_time": "2021-11-28T14:45:07.256482Z",
     "start_time": "2021-11-28T14:45:07.219210Z"
    }
   },
   "outputs": [],
   "source": [
    "model = joblib.load('model.joblib')"
   ]
  },
  {
   "cell_type": "markdown",
   "metadata": {
    "ExecuteTime": {
     "end_time": "2021-11-22T04:45:53.769105Z",
     "start_time": "2021-11-22T04:45:53.766935Z"
    }
   },
   "source": [
    "# Perform Predictions"
   ]
  },
  {
   "cell_type": "markdown",
   "metadata": {},
   "source": [
    "## On Train Data"
   ]
  },
  {
   "cell_type": "code",
   "execution_count": null,
   "metadata": {
    "ExecuteTime": {
     "end_time": "2021-11-28T14:45:11.081450Z",
     "start_time": "2021-11-28T14:45:11.033010Z"
    }
   },
   "outputs": [],
   "source": [
    "reference_df['prediction'] = model.predict(reference_df.drop('Churn', axis=1))"
   ]
  },
  {
   "cell_type": "code",
   "execution_count": null,
   "metadata": {
    "ExecuteTime": {
     "end_time": "2021-11-28T14:45:19.314841Z",
     "start_time": "2021-11-28T14:45:19.312281Z"
    }
   },
   "outputs": [],
   "source": [
    "column_mapping['prediction'] = 'prediction'"
   ]
  },
  {
   "cell_type": "markdown",
   "metadata": {},
   "source": [
    "## On Test Data"
   ]
  },
  {
   "cell_type": "code",
   "execution_count": null,
   "metadata": {
    "ExecuteTime": {
     "end_time": "2021-11-28T14:45:30.961392Z",
     "start_time": "2021-11-28T14:45:30.927812Z"
    }
   },
   "outputs": [],
   "source": [
    "current_df['prediction'] = model.predict(current_df.drop('Churn', axis=1))"
   ]
  },
  {
   "cell_type": "markdown",
   "metadata": {},
   "source": [
    "# Evidently Dashboards"
   ]
  },
  {
   "cell_type": "markdown",
   "metadata": {},
   "source": [
    "## Regression Performance"
   ]
  },
  {
   "cell_type": "code",
   "execution_count": null,
   "metadata": {
    "ExecuteTime": {
     "end_time": "2021-11-28T14:45:37.367802Z",
     "start_time": "2021-11-28T14:45:34.290997Z"
    }
   },
   "outputs": [],
   "source": [
    "regression_perfomance_dashboard = Dashboard(tabs=[RegressionPerformanceTab])\n",
    "regression_perfomance_dashboard.calculate(reference_df, current_df, column_mapping=column_mapping)"
   ]
  },
  {
   "cell_type": "code",
   "execution_count": null,
   "metadata": {
    "ExecuteTime": {
     "end_time": "2021-11-28T14:45:39.019854Z",
     "start_time": "2021-11-28T14:45:37.878108Z"
    }
   },
   "outputs": [],
   "source": [
    "regression_perfomance_dashboard.save('performance.html')"
   ]
  },
  {
   "cell_type": "code",
   "execution_count": null,
   "metadata": {
    "ExecuteTime": {
     "end_time": "2021-11-28T14:45:40.667091Z",
     "start_time": "2021-11-28T14:45:39.425797Z"
    },
    "scrolled": true
   },
   "outputs": [],
   "source": [
    "regression_perfomance_dashboard.show()"
   ]
  },
  {
   "cell_type": "markdown",
   "metadata": {},
   "source": [
    "## Data Drift"
   ]
  },
  {
   "cell_type": "code",
   "execution_count": null,
   "metadata": {
    "ExecuteTime": {
     "end_time": "2021-11-28T14:46:45.948876Z",
     "start_time": "2021-11-28T14:46:44.677952Z"
    }
   },
   "outputs": [],
   "source": [
    "drift_dashboard = Dashboard(tabs=[DataDriftTab])\n",
    "drift_dashboard.calculate(reference_df, current_df)"
   ]
  },
  {
   "cell_type": "code",
   "execution_count": null,
   "metadata": {
    "ExecuteTime": {
     "end_time": "2021-11-28T14:46:47.280007Z",
     "start_time": "2021-11-28T14:46:46.816866Z"
    },
    "scrolled": true
   },
   "outputs": [],
   "source": [
    "drift_dashboard.show()"
   ]
  },
  {
   "cell_type": "markdown",
   "metadata": {},
   "source": [
    "## Target Drift"
   ]
  },
  {
   "cell_type": "code",
   "execution_count": null,
   "metadata": {
    "ExecuteTime": {
     "end_time": "2021-11-28T14:47:32.420768Z",
     "start_time": "2021-11-28T14:47:31.906438Z"
    }
   },
   "outputs": [],
   "source": [
    "drift_dashboard.save('drift.html')"
   ]
  },
  {
   "cell_type": "code",
   "execution_count": null,
   "metadata": {
    "ExecuteTime": {
     "end_time": "2021-11-28T14:47:33.190666Z",
     "start_time": "2021-11-28T14:47:32.422819Z"
    }
   },
   "outputs": [],
   "source": [
    "concept_drift_dashboard = Dashboard(tabs=[NumTargetDriftTab])\n",
    "concept_drift_dashboard.calculate(reference_df, current_df)"
   ]
  },
  {
   "cell_type": "markdown",
   "metadata": {},
   "source": [
    "## Bringing it all together"
   ]
  },
  {
   "cell_type": "code",
   "execution_count": null,
   "metadata": {
    "ExecuteTime": {
     "end_time": "2021-11-28T14:47:38.953689Z",
     "start_time": "2021-11-28T14:47:35.039378Z"
    }
   },
   "outputs": [],
   "source": [
    "evidently_dashboard = Dashboard(tabs=[NumTargetDriftTab, DataDriftTab, RegressionPerformanceTab])\n",
    "evidently_dashboard.calculate(reference_df, current_df, column_mapping)"
   ]
  },
  {
   "cell_type": "code",
   "execution_count": null,
   "metadata": {
    "ExecuteTime": {
     "end_time": "2021-11-28T14:47:41.581498Z",
     "start_time": "2021-11-28T14:47:38.955832Z"
    }
   },
   "outputs": [],
   "source": [
    "evidently_dashboard.save('dashboard.html')"
   ]
  },
  {
   "cell_type": "code",
   "execution_count": null,
   "metadata": {},
   "outputs": [],
   "source": []
  }
 ],
 "metadata": {
  "kernelspec": {
   "display_name": "Python 3 (ipykernel)",
   "language": "python",
   "name": "python3"
  },
  "language_info": {
   "codemirror_mode": {
    "name": "ipython",
    "version": 3
   },
   "file_extension": ".py",
   "mimetype": "text/x-python",
   "name": "python",
   "nbconvert_exporter": "python",
   "pygments_lexer": "ipython3",
   "version": "3.7.12"
  }
 },
 "nbformat": 4,
 "nbformat_minor": 2
}
